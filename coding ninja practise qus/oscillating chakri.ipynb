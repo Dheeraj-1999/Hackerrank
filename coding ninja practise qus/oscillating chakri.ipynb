{
 "cells": [
  {
   "cell_type": "code",
   "execution_count": null,
   "metadata": {},
   "outputs": [],
   "source": [
    "# import itertools as it\n",
    "# def diffr(items):\n",
    "#     return(-1*(items[0] - sum(items[1:])))\n",
    "# n = int(input(\"\"))\n",
    "# arr = list(map(int, input(\"\").split()))\n",
    "# max = diffr(list(it.combinations(arr, 2))[0])\n",
    "# for combination in it.combinations(arr, 2):\n",
    "#     if(diffr(combination)>max):\n",
    "#         max  = diffr(combination)\n",
    "# print(max)\n",
    "\n",
    "t = int(input())\n",
    "ar = list(map(int,input().split()))\n",
    "s = 0\n",
    "for a in range(len(ar)):\n",
    "  for b in range(a,len(ar)):\n",
    "    if(s<(ar[b]-ar[a])):\n",
    "      s = ar[b]-ar[a]\n",
    "\n",
    "print(s)\n",
    "     "
   ]
  }
 ],
 "metadata": {
  "kernelspec": {
   "display_name": "Python 3",
   "language": "python",
   "name": "python3"
  },
  "language_info": {
   "codemirror_mode": {
    "name": "ipython",
    "version": 3
   },
   "file_extension": ".py",
   "mimetype": "text/x-python",
   "name": "python",
   "nbconvert_exporter": "python",
   "pygments_lexer": "ipython3",
   "version": "3.7.3"
  }
 },
 "nbformat": 4,
 "nbformat_minor": 2
}
